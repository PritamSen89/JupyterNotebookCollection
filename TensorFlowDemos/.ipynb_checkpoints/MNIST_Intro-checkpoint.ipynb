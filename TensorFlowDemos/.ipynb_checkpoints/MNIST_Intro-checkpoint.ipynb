{
 "cells": [
  {
   "cell_type": "markdown",
   "metadata": {},
   "source": [
    "# MNIST\n",
    "MNIST is a simple computer vision dataset. It consists of images of handwritten digits.\n",
    "The MNIST data is hosted on http://yann.lecun.com/exdb/mnist/\n",
    "\n",
    "The data is split into three parts, 55,000 data points of training data (mnist.train), 10,000 points of test data (mnist.test), and 5,000 points of validation data (mnist.validation)\n",
    "\n",
    "The digits have been size-normalized and centered in a fixed-size image (28x28 pixels) with values from 0 to 1. For simplicity, each image has been flatten and converted to a 1-D numpy array of 784 features (28*28)."
   ]
  },
  {
   "cell_type": "markdown",
   "metadata": {},
   "source": [
    "<img src=\"images/mnist_sample_images.png\" alt=\"MNIST_Sample_Image\" style=\"width: 300px;\"/>"
   ]
  },
  {
   "cell_type": "markdown",
   "metadata": {},
   "source": [
    "## Load MNIST Data Using TensorFlow\n",
    "\n",
    "We can use input_data.py script from TensorFlow to load that dataset:\n",
    "- Download dataset ( train, test, validation )\n",
    "- Load dataset into numpy array\n",
    "- Instead of loading entire dataset, we can get batch of data using next_batch function"
   ]
  },
  {
   "cell_type": "code",
   "execution_count": 4,
   "metadata": {},
   "outputs": [
    {
     "name": "stdout",
     "output_type": "stream",
     "text": [
      "Extracting /tmp/mnist_data/train-images-idx3-ubyte.gz\n",
      "Extracting /tmp/mnist_data/train-labels-idx1-ubyte.gz\n",
      "Extracting /tmp/mnist_data/t10k-images-idx3-ubyte.gz\n",
      "Extracting /tmp/mnist_data/t10k-labels-idx1-ubyte.gz\n",
      "(55000, 784)\n",
      "(55000, 10)\n",
      "(5000, 784)\n",
      "(10000, 784)\n",
      "(10000, 10)\n"
     ]
    }
   ],
   "source": [
    "# Import MNIST\n",
    "from tensorflow.examples.tutorials.mnist import input_data\n",
    "mnist = input_data.read_data_sets(\"/tmp/mnist_data\", one_hot=True)\n",
    "\n",
    "# Load training and testing data\n",
    "X_train = mnist.train.images\n",
    "Y_train = mnist.train.labels\n",
    "X_test = mnist.test.images\n",
    "Y_test = mnist.test.labels\n",
    "\n",
    "print(X_train.shape)\n",
    "print(Y_train.shape)\n",
    "print(X_test.shape)\n",
    "print(Y_test.shape)"
   ]
  },
  {
   "cell_type": "code",
   "execution_count": 3,
   "metadata": {},
   "outputs": [
    {
     "name": "stdout",
     "output_type": "stream",
     "text": [
      "(32, 784)\n",
      "(32, 10)\n"
     ]
    }
   ],
   "source": [
    "# Get next 32 images and labels\n",
    "batch_X_train, batch_Y_train = mnist.train.next_batch(32)\n",
    "print(batch_X_train.shape)\n",
    "print(batch_Y_train.shape)"
   ]
  },
  {
   "cell_type": "code",
   "execution_count": null,
   "metadata": {},
   "outputs": [],
   "source": []
  }
 ],
 "metadata": {
  "kernelspec": {
   "display_name": "Python 3",
   "language": "python",
   "name": "python3"
  },
  "language_info": {
   "codemirror_mode": {
    "name": "ipython",
    "version": 3
   },
   "file_extension": ".py",
   "mimetype": "text/x-python",
   "name": "python",
   "nbconvert_exporter": "python",
   "pygments_lexer": "ipython3",
   "version": "3.7.6"
  }
 },
 "nbformat": 4,
 "nbformat_minor": 4
}
