{
 "cells": [
  {
   "cell_type": "markdown",
   "metadata": {},
   "source": [
    "### Basic Functionality"
   ]
  },
  {
   "cell_type": "markdown",
   "metadata": {},
   "source": [
    "#### Series Basic Functionality"
   ]
  },
  {
   "cell_type": "code",
   "execution_count": 2,
   "metadata": {},
   "outputs": [
    {
     "name": "stdout",
     "output_type": "stream",
     "text": [
      "0   -0.301815\n",
      "1   -0.671261\n",
      "2   -3.083109\n",
      "3   -0.157356\n",
      "dtype: float64\n"
     ]
    }
   ],
   "source": [
    "import pandas as pd\n",
    "import numpy as np\n",
    "\n",
    "#Create a series with 4 random numbers\n",
    "s = pd.Series(np.random.randn(4))\n",
    "print(s)"
   ]
  },
  {
   "cell_type": "code",
   "execution_count": 3,
   "metadata": {},
   "outputs": [
    {
     "name": "stdout",
     "output_type": "stream",
     "text": [
      "The axes are:\n",
      "[RangeIndex(start=0, stop=4, step=1)]\n"
     ]
    }
   ],
   "source": [
    "# axes : Returns the list of the labels of the series.\n",
    "print (\"The axes are:\")\n",
    "print(s.axes)"
   ]
  },
  {
   "cell_type": "code",
   "execution_count": 4,
   "metadata": {},
   "outputs": [
    {
     "name": "stdout",
     "output_type": "stream",
     "text": [
      "Is the Object empty?\n",
      "False\n"
     ]
    }
   ],
   "source": [
    "# empty\n",
    "print (\"Is the Object empty?\")\n",
    "print(s.empty)"
   ]
  },
  {
   "cell_type": "code",
   "execution_count": 5,
   "metadata": {},
   "outputs": [
    {
     "name": "stdout",
     "output_type": "stream",
     "text": [
      "The dimensions of the object:\n",
      "1\n"
     ]
    }
   ],
   "source": [
    "# ndim \n",
    "print (\"The dimensions of the object:\")\n",
    "print (s.ndim)"
   ]
  },
  {
   "cell_type": "code",
   "execution_count": 6,
   "metadata": {},
   "outputs": [
    {
     "name": "stdout",
     "output_type": "stream",
     "text": [
      "The size of the object:\n",
      "4\n"
     ]
    }
   ],
   "source": [
    "# size\n",
    "print (\"The size of the object:\")\n",
    "print (s.size)"
   ]
  },
  {
   "cell_type": "code",
   "execution_count": 7,
   "metadata": {},
   "outputs": [
    {
     "name": "stdout",
     "output_type": "stream",
     "text": [
      "The actual data series is:\n",
      "[-0.30181468 -0.67126134 -3.08310907 -0.15735586]\n"
     ]
    }
   ],
   "source": [
    "# values\n",
    "print (\"The actual data series is:\")\n",
    "print (s.values)"
   ]
  },
  {
   "cell_type": "code",
   "execution_count": 8,
   "metadata": {},
   "outputs": [
    {
     "name": "stdout",
     "output_type": "stream",
     "text": [
      "The first two rows of the data series:\n",
      "0   -0.301815\n",
      "1   -0.671261\n",
      "dtype: float64\n",
      "The last two rows of the data series:\n",
      "2   -3.083109\n",
      "3   -0.157356\n",
      "dtype: float64\n"
     ]
    }
   ],
   "source": [
    "# head, tail\n",
    "print (\"The first two rows of the data series:\")\n",
    "print (s.head(2))\n",
    "\n",
    "print (\"The last two rows of the data series:\")\n",
    "print (s.tail(2))"
   ]
  },
  {
   "cell_type": "markdown",
   "metadata": {},
   "source": [
    "#### DataFrame Basic Functionality"
   ]
  },
  {
   "cell_type": "code",
   "execution_count": 10,
   "metadata": {},
   "outputs": [
    {
     "name": "stdout",
     "output_type": "stream",
     "text": [
      "Our data series is:\n",
      "    Name  Age  Rating\n",
      "0    Tom   25    4.23\n",
      "1  James   26    3.24\n",
      "2  Ricky   25    3.98\n",
      "3    Vin   23    2.56\n",
      "4  Steve   30    3.20\n",
      "5  Smith   29    4.60\n",
      "6   Jack   23    3.80\n"
     ]
    }
   ],
   "source": [
    "#Create a Dictionary of series\n",
    "d = {'Name':pd.Series(['Tom','James','Ricky','Vin','Steve','Smith','Jack']),\n",
    "   'Age':pd.Series([25,26,25,23,30,29,23]),\n",
    "   'Rating':pd.Series([4.23,3.24,3.98,2.56,3.20,4.6,3.8])}\n",
    "\n",
    "#Create a DataFrame\n",
    "df = pd.DataFrame(d)\n",
    "print (\"Our data series is:\")\n",
    "print (df)"
   ]
  },
  {
   "cell_type": "code",
   "execution_count": 11,
   "metadata": {},
   "outputs": [
    {
     "name": "stdout",
     "output_type": "stream",
     "text": [
      "The transpose of the data series is:\n",
      "           0      1      2     3      4      5     6\n",
      "Name     Tom  James  Ricky   Vin  Steve  Smith  Jack\n",
      "Age       25     26     25    23     30     29    23\n",
      "Rating  4.23   3.24   3.98  2.56    3.2    4.6   3.8\n"
     ]
    }
   ],
   "source": [
    "# T (Transpose)\n",
    "print (\"The transpose of the data series is:\")\n",
    "print (df.T)"
   ]
  },
  {
   "cell_type": "code",
   "execution_count": 12,
   "metadata": {},
   "outputs": [
    {
     "name": "stdout",
     "output_type": "stream",
     "text": [
      "Row axis labels and column axis labels are:\n",
      "[RangeIndex(start=0, stop=7, step=1), Index(['Name', 'Age', 'Rating'], dtype='object')]\n"
     ]
    }
   ],
   "source": [
    "# axes\n",
    "print (\"Row axis labels and column axis labels are:\")\n",
    "print (df.axes)"
   ]
  },
  {
   "cell_type": "code",
   "execution_count": 13,
   "metadata": {},
   "outputs": [
    {
     "name": "stdout",
     "output_type": "stream",
     "text": [
      "The data types of each column are:\n",
      "Name       object\n",
      "Age         int64\n",
      "Rating    float64\n",
      "dtype: object\n"
     ]
    }
   ],
   "source": [
    "# dtypes\n",
    "print (\"The data types of each column are:\")\n",
    "print (df.dtypes)"
   ]
  },
  {
   "cell_type": "code",
   "execution_count": 14,
   "metadata": {},
   "outputs": [
    {
     "name": "stdout",
     "output_type": "stream",
     "text": [
      "Is the object empty?\n",
      "False\n"
     ]
    }
   ],
   "source": [
    "# empty\n",
    "print (\"Is the object empty?\")\n",
    "print (df.empty)"
   ]
  },
  {
   "cell_type": "code",
   "execution_count": 15,
   "metadata": {},
   "outputs": [
    {
     "name": "stdout",
     "output_type": "stream",
     "text": [
      "The dimension of the object is:\n",
      "2\n"
     ]
    }
   ],
   "source": [
    "# ndim\n",
    "print (\"The dimension of the object is:\")\n",
    "print (df.ndim)"
   ]
  },
  {
   "cell_type": "code",
   "execution_count": 16,
   "metadata": {},
   "outputs": [
    {
     "name": "stdout",
     "output_type": "stream",
     "text": [
      "The shape of the object is:\n",
      "(7, 3)\n"
     ]
    }
   ],
   "source": [
    "# shape -> returns tuple\n",
    "print (\"The shape of the object is:\")\n",
    "print (df.shape)"
   ]
  },
  {
   "cell_type": "code",
   "execution_count": 17,
   "metadata": {},
   "outputs": [
    {
     "name": "stdout",
     "output_type": "stream",
     "text": [
      "The total number of elements in our object is:\n",
      "21\n"
     ]
    }
   ],
   "source": [
    "# size\n",
    "print (\"The total number of elements in our object is:\")\n",
    "print (df.size)"
   ]
  },
  {
   "cell_type": "code",
   "execution_count": 18,
   "metadata": {},
   "outputs": [
    {
     "name": "stdout",
     "output_type": "stream",
     "text": [
      "The actual data in our data frame is:\n",
      "[['Tom' 25 4.23]\n",
      " ['James' 26 3.24]\n",
      " ['Ricky' 25 3.98]\n",
      " ['Vin' 23 2.56]\n",
      " ['Steve' 30 3.2]\n",
      " ['Smith' 29 4.6]\n",
      " ['Jack' 23 3.8]]\n"
     ]
    }
   ],
   "source": [
    "# values -> Returns the actual data in the DataFrame as an NDarray.\n",
    "print (\"The actual data in our data frame is:\")\n",
    "print (df.values)"
   ]
  },
  {
   "cell_type": "code",
   "execution_count": 19,
   "metadata": {},
   "outputs": [
    {
     "name": "stdout",
     "output_type": "stream",
     "text": [
      "The first two rows of the data frame is:\n",
      "    Name  Age  Rating\n",
      "0    Tom   25    4.23\n",
      "1  James   26    3.24\n",
      "The last two rows of the data frame is:\n",
      "    Name  Age  Rating\n",
      "5  Smith   29     4.6\n",
      "6   Jack   23     3.8\n"
     ]
    }
   ],
   "source": [
    "# head, tail\n",
    "print (\"The first two rows of the data frame is:\")\n",
    "print (df.head(2))\n",
    "\n",
    "print (\"The last two rows of the data frame is:\")\n",
    "print (df.tail(2))"
   ]
  },
  {
   "cell_type": "markdown",
   "metadata": {},
   "source": [
    "### Descriptive Statistics"
   ]
  },
  {
   "cell_type": "code",
   "execution_count": 20,
   "metadata": {},
   "outputs": [
    {
     "name": "stdout",
     "output_type": "stream",
     "text": [
      "      Name  Age  Rating\n",
      "0      Tom   25    4.23\n",
      "1    James   26    3.24\n",
      "2    Ricky   25    3.98\n",
      "3      Vin   23    2.56\n",
      "4    Steve   30    3.20\n",
      "5    Smith   29    4.60\n",
      "6     Jack   23    3.80\n",
      "7      Lee   34    3.78\n",
      "8    David   40    2.98\n",
      "9   Gasper   30    4.80\n",
      "10  Betina   51    4.10\n",
      "11  Andres   46    3.65\n"
     ]
    }
   ],
   "source": [
    "#Create a Dictionary of series\n",
    "d = {'Name':pd.Series(['Tom','James','Ricky','Vin','Steve','Smith','Jack',\n",
    "   'Lee','David','Gasper','Betina','Andres']),\n",
    "   'Age':pd.Series([25,26,25,23,30,29,23,34,40,30,51,46]),\n",
    "   'Rating':pd.Series([4.23,3.24,3.98,2.56,3.20,4.6,3.8,3.78,2.98,4.80,4.10,3.65])\n",
    "}\n",
    "\n",
    "#Create a DataFrame\n",
    "df = pd.DataFrame(d)\n",
    "print (df)"
   ]
  },
  {
   "cell_type": "code",
   "execution_count": 22,
   "metadata": {},
   "outputs": [
    {
     "name": "stdout",
     "output_type": "stream",
     "text": [
      "Name      TomJamesRickyVinSteveSmithJackLeeDavidGasperBe...\n",
      "Age                                                     382\n",
      "Rating                                                44.92\n",
      "dtype: object\n",
      "================\n",
      "0     29.23\n",
      "1     29.24\n",
      "2     28.98\n",
      "3     25.56\n",
      "4     33.20\n",
      "5     33.60\n",
      "6     26.80\n",
      "7     37.78\n",
      "8     42.98\n",
      "9     34.80\n",
      "10    55.10\n",
      "11    49.65\n",
      "dtype: float64\n"
     ]
    }
   ],
   "source": [
    "# sum -> Returns the sum of the values for the requested axis. By default, axis is index (axis=0).\n",
    "print (df.sum())\n",
    "\n",
    "print(\"================\")\n",
    "\n",
    "print (df.sum(1)) # -> axis 1"
   ]
  },
  {
   "cell_type": "code",
   "execution_count": 25,
   "metadata": {},
   "outputs": [
    {
     "name": "stdout",
     "output_type": "stream",
     "text": [
      "Age       31.833333\n",
      "Rating     3.743333\n",
      "dtype: float64\n"
     ]
    }
   ],
   "source": [
    "# mean -> Returns the average value\n",
    "print (df.mean())"
   ]
  },
  {
   "cell_type": "code",
   "execution_count": 26,
   "metadata": {},
   "outputs": [
    {
     "name": "stdout",
     "output_type": "stream",
     "text": [
      "Age       9.232682\n",
      "Rating    0.661628\n",
      "dtype: float64\n"
     ]
    }
   ],
   "source": [
    "# std -> standard deviation of the numerical columns\n",
    "print (df.std())"
   ]
  },
  {
   "cell_type": "code",
   "execution_count": 27,
   "metadata": {},
   "outputs": [],
   "source": [
    "# count, sum, mean, median, mode, std, min, max, abs, prod, cumsum, cumprod"
   ]
  },
  {
   "cell_type": "code",
   "execution_count": 30,
   "metadata": {},
   "outputs": [
    {
     "name": "stdout",
     "output_type": "stream",
     "text": [
      "             Age     Rating\n",
      "count  12.000000  12.000000\n",
      "mean   31.833333   3.743333\n",
      "std     9.232682   0.661628\n",
      "min    23.000000   2.560000\n",
      "25%    25.000000   3.230000\n",
      "50%    29.500000   3.790000\n",
      "75%    35.500000   4.132500\n",
      "max    51.000000   4.800000\n",
      "===================\n",
      "         Name\n",
      "count      12\n",
      "unique     12\n",
      "top     Smith\n",
      "freq        1\n",
      "===================\n",
      "         Name        Age     Rating\n",
      "count      12  12.000000  12.000000\n",
      "unique     12        NaN        NaN\n",
      "top     Smith        NaN        NaN\n",
      "freq        1        NaN        NaN\n",
      "mean      NaN  31.833333   3.743333\n",
      "std       NaN   9.232682   0.661628\n",
      "min       NaN  23.000000   2.560000\n",
      "25%       NaN  25.000000   3.230000\n",
      "50%       NaN  29.500000   3.790000\n",
      "75%       NaN  35.500000   4.132500\n",
      "max       NaN  51.000000   4.800000\n"
     ]
    }
   ],
   "source": [
    "# Summarizing Data\n",
    "print (df.describe())\n",
    "\n",
    "print(\"===================\")\n",
    "\n",
    "# describe include : by default number\n",
    "# -object − Summarizes String columns\n",
    "# -number − Summarizes Numeric columns\n",
    "# -all − Summarizes all columns together (Should not pass it as a list value)\n",
    "print (df.describe(include=['object']))\n",
    "\n",
    "print(\"===================\")\n",
    "\n",
    "print (df. describe(include='all'))"
   ]
  },
  {
   "cell_type": "markdown",
   "metadata": {},
   "source": [
    "#### Function Application"
   ]
  },
  {
   "cell_type": "code",
   "execution_count": 36,
   "metadata": {},
   "outputs": [
    {
     "name": "stdout",
     "output_type": "stream",
     "text": [
      "       col1      col2      col3\n",
      "0  1.630878  0.961651  0.747597\n",
      "1  1.177849  0.988515 -0.483801\n",
      "2 -0.348332 -1.431008  1.630069\n",
      "3  0.525402  1.119503  0.348119\n",
      "4  0.595321  0.640442  0.084993\n",
      "=============\n",
      "       col1      col2      col3\n",
      "0  3.630878  2.961651  2.747597\n",
      "1  3.177849  2.988515  1.516199\n",
      "2  1.651668  0.568992  3.630069\n",
      "3  2.525402  3.119503  2.348119\n",
      "4  2.595321  2.640442  2.084993\n",
      "=============\n",
      "col1    0.716224\n",
      "col2    0.455820\n",
      "col3    0.465395\n",
      "dtype: float64\n",
      "=============\n",
      "0    1.113375\n",
      "1    0.560854\n",
      "2   -0.049757\n",
      "3    0.664341\n",
      "4    0.440252\n",
      "dtype: float64\n",
      "=============\n",
      "col1    1.979210\n",
      "col2    2.550511\n",
      "col3    2.113870\n",
      "dtype: float64\n",
      "=============\n",
      "0    163.087830\n",
      "1    117.784871\n",
      "2    -34.833196\n",
      "3     52.540241\n",
      "4     59.532145\n",
      "Name: col1, dtype: float64\n",
      "=============\n",
      "         col1        col2        col3\n",
      "0  163.087830   96.165066   74.759684\n",
      "1  117.784871   98.851461  -48.380096\n",
      "2  -34.833196 -143.100814  163.006932\n",
      "3   52.540241  111.950292   34.811876\n",
      "4   59.532145   64.044156    8.499281\n"
     ]
    }
   ],
   "source": [
    "# Table-wise Function Application : pipe()\n",
    "# Custom operations can be performed by passing the function and the appropriate number of parameters as pipe arguments. Thus, operation is performed on the whole DataFrame.\n",
    "# For example, add a value 2 to all the elements in the DataFrame. Then,\n",
    "\n",
    "df = pd.DataFrame(np.random.randn(5,3),columns=['col1','col2','col3'])\n",
    "print(df)\n",
    "print(\"=============\")\n",
    "\n",
    "def adder(ele1,ele2):\n",
    "   return ele1+ele2\n",
    "\n",
    "print(df.pipe(adder,2))\n",
    "print(\"=============\")\n",
    "\n",
    "\n",
    "# Row or Column Wise Function Application : apply\n",
    "print(df.apply(np.mean))\n",
    "print(\"=============\")\n",
    "print(df.apply(np.mean,axis=1))\n",
    "print(\"=============\")\n",
    "print(df.apply(lambda x: x.max() - x.min()))\n",
    "print(\"=============\")\n",
    "\n",
    "# Element Wise Function Application\n",
    "# the methods applymap() on DataFrame and analogously map() on Series accept any Python function taking a single value and returning a single value.\n",
    "print(df['col1'].map(lambda x:x*100))\n",
    "print(\"=============\")\n",
    "print(df.applymap(lambda x:x*100))"
   ]
  },
  {
   "cell_type": "markdown",
   "metadata": {},
   "source": [
    "#### Reindexing"
   ]
  },
  {
   "cell_type": "code",
   "execution_count": 49,
   "metadata": {},
   "outputs": [
    {
     "name": "stdout",
     "output_type": "stream",
     "text": [
      "            A     x         y       C           D\n",
      "0  2016-01-01   0.0  0.356407    High  103.754872\n",
      "1  2016-01-02   1.0  0.634253     Low  105.731359\n",
      "2  2016-01-03   2.0  0.085029     Low  103.517769\n",
      "3  2016-01-04   3.0  0.213268  Medium  105.550180\n",
      "4  2016-01-05   4.0  0.942544     Low  107.947475\n",
      "5  2016-01-06   5.0  0.800551    High  103.008759\n",
      "6  2016-01-07   6.0  0.865869     Low  105.876293\n",
      "7  2016-01-08   7.0  0.881858     Low  104.097812\n",
      "8  2016-01-09   8.0  0.073767     Low  103.919086\n",
      "9  2016-01-10   9.0  0.017781    High  106.633294\n",
      "10 2016-01-11  10.0  0.958474  Medium  103.961086\n",
      "11 2016-01-12  11.0  0.317015    High   81.179383\n",
      "12 2016-01-13  12.0  0.277716    High   88.397944\n",
      "13 2016-01-14  13.0  0.042937     Low  110.603508\n",
      "14 2016-01-15  14.0  0.537557    High  101.465286\n",
      "15 2016-01-16  15.0  0.506483     Low   81.257398\n",
      "16 2016-01-17  16.0  0.984332    High   89.240706\n",
      "17 2016-01-18  17.0  0.717989  Medium  100.431086\n",
      "18 2016-01-19  18.0  0.934839    High  106.071087\n",
      "19 2016-01-20  19.0  0.397440    High   97.376034\n",
      "=============\n",
      "           A     C   B\n",
      "0 2016-01-01  High NaN\n",
      "2 2016-01-03   Low NaN\n",
      "5 2016-01-06  High NaN\n",
      "=============\n",
      "       col1      col2      col3\n",
      "0  0.465681  1.257118 -1.278640\n",
      "1  0.034262 -1.523680  0.756213\n",
      "2 -0.860658 -0.438218  0.681879\n",
      "3 -1.061039 -0.372063 -0.076266\n",
      "4 -0.344314  1.838096 -0.036375\n",
      "5  1.556266  2.821072  0.913609\n",
      "6  1.129635 -1.594576 -1.213516\n",
      "7  0.649433  0.176668 -1.720876\n",
      "8  0.018798  0.756429  0.419854\n",
      "9 -1.109005 -0.459281  1.211523\n",
      "=============\n",
      "       col1      col2      col3\n",
      "0 -1.218729  1.878302 -1.458762\n",
      "1  0.940298  0.064005 -0.927826\n",
      "2  1.501443 -0.861997 -2.331671\n",
      "3  0.532645  0.535605 -0.335554\n",
      "4 -0.011037 -0.085272  0.479595\n",
      "5  0.315458 -0.702743  2.106197\n",
      "6  1.652406  1.074530 -1.178838\n",
      "=============\n",
      "       col1      col2      col3\n",
      "0  0.465681  1.257118 -1.278640\n",
      "1  0.034262 -1.523680  0.756213\n",
      "2 -0.860658 -0.438218  0.681879\n",
      "3 -1.061039 -0.372063 -0.076266\n",
      "4 -0.344314  1.838096 -0.036375\n",
      "5  1.556266  2.821072  0.913609\n",
      "6  1.129635 -1.594576 -1.213516\n",
      "=============\n",
      "       col1      col2      col3\n",
      "0 -2.722714  0.874768 -1.664072\n",
      "1  1.703037 -0.772065  0.814163\n",
      "2 -0.833098  1.111257  1.753718\n",
      "3 -0.661331  0.515634 -0.538686\n",
      "4 -2.347974  0.164828  0.021061\n",
      "5  1.093600 -1.248400 -1.146303\n",
      "=============\n",
      "       col1      col2      col3\n",
      "0 -0.042757  0.806011 -0.030475\n",
      "1  1.000146  0.739750  0.340840\n",
      "=============\n",
      "       col1      col2      col3\n",
      "0 -0.042757  0.806011 -0.030475\n",
      "1  1.000146  0.739750  0.340840\n",
      "2       NaN       NaN       NaN\n",
      "3       NaN       NaN       NaN\n",
      "4       NaN       NaN       NaN\n",
      "5       NaN       NaN       NaN\n",
      "Data Frame with Forward Fill:\n",
      "       col1      col2      col3\n",
      "0 -0.042757  0.806011 -0.030475\n",
      "1  1.000146  0.739750  0.340840\n",
      "2  1.000146  0.739750  0.340840\n",
      "3  1.000146  0.739750  0.340840\n",
      "4  1.000146  0.739750  0.340840\n",
      "5  1.000146  0.739750  0.340840\n",
      "=============\n",
      "       col1      col2      col3\n",
      "0 -0.458315 -1.999290  1.278302\n",
      "1  0.026136  1.177132 -0.221355\n",
      "2  1.650861  1.045393  0.927441\n",
      "3 -0.685781  0.035544  0.290523\n",
      "4  0.179442 -1.455268 -0.060093\n",
      "5  0.434337  0.586303 -0.768184\n",
      "=============\n",
      "       col1      col2      col3\n",
      "0  0.346739 -0.796385 -1.305739\n",
      "1  0.133862 -1.044161  0.554829\n",
      "=============\n",
      "       col1      col2      col3\n",
      "0  0.346739 -0.796385 -1.305739\n",
      "1  0.133862 -1.044161  0.554829\n",
      "2       NaN       NaN       NaN\n",
      "3       NaN       NaN       NaN\n",
      "4       NaN       NaN       NaN\n",
      "5       NaN       NaN       NaN\n",
      "Data Frame with Forward Fill limiting to 1:\n",
      "       col1      col2      col3\n",
      "0  0.346739 -0.796385 -1.305739\n",
      "1  0.133862 -1.044161  0.554829\n",
      "2  0.133862 -1.044161  0.554829\n",
      "3       NaN       NaN       NaN\n",
      "4       NaN       NaN       NaN\n",
      "5       NaN       NaN       NaN\n",
      "       col1      col2      col3\n",
      "0 -0.720782  0.751623 -0.627163\n",
      "1 -1.052844  0.611342  0.528267\n",
      "2  3.391839  0.509876 -2.058282\n",
      "3 -0.068329 -0.956082 -0.193206\n",
      "4 -1.415331  0.221817 -0.441066\n",
      "5 -1.964778  1.476266 -0.231907\n",
      "After renaming the rows and columns:\n",
      "              c1        c2      col3\n",
      "apple  -0.720782  0.751623 -0.627163\n",
      "banana -1.052844  0.611342  0.528267\n",
      "durian  3.391839  0.509876 -2.058282\n",
      "3      -0.068329 -0.956082 -0.193206\n",
      "4      -1.415331  0.221817 -0.441066\n",
      "5      -1.964778  1.476266 -0.231907\n"
     ]
    }
   ],
   "source": [
    "N=20\n",
    "\n",
    "df = pd.DataFrame({\n",
    "   'A': pd.date_range(start='2016-01-01',periods=N,freq='D'),\n",
    "   'x': np.linspace(0,stop=N-1,num=N),\n",
    "   'y': np.random.rand(N),\n",
    "   'C': np.random.choice(['Low','Medium','High'],N).tolist(),\n",
    "   'D': np.random.normal(100, 10, size=(N)).tolist()\n",
    "})\n",
    "\n",
    "print(df)\n",
    "print(\"=============\")\n",
    "\n",
    "#reindex the DataFrame\n",
    "df_reindexed = df.reindex(index=[0,2,5], columns=['A', 'C', 'B'])\n",
    "\n",
    "print (df_reindexed)\n",
    "print(\"=============\")\n",
    "\n",
    "# Reindex to Align with Other Objects\n",
    "# You may wish to take an object and reindex its axes to be labeled the same as another object.\n",
    "df1 = pd.DataFrame(np.random.randn(10,3),columns=['col1','col2','col3'])\n",
    "df2 = pd.DataFrame(np.random.randn(7,3),columns=['col1','col2','col3'])\n",
    "print(df1)\n",
    "print(\"=============\")\n",
    "print(df2)\n",
    "print(\"=============\")\n",
    "df1 = df1.reindex_like(df2)\n",
    "print(df1) # Here, the df1 DataFrame is altered and reindexed like df2. The column names should be matched or else NAN will be added for the entire column label.\n",
    "print(\"=============\")\n",
    "\n",
    "\n",
    "# Filling with reindexing\n",
    "# - pad/ffill − Fill values forward\n",
    "# - bfill/backfill − Fill values backward\n",
    "# - nearest − Fill from the nearest index values\n",
    "\n",
    "df1 = pd.DataFrame(np.random.randn(6,3),columns=['col1','col2','col3'])\n",
    "df2 = pd.DataFrame(np.random.randn(2,3),columns=['col1','col2','col3'])\n",
    "print(df1)\n",
    "print(\"=============\")\n",
    "print(df2)\n",
    "print(\"=============\")\n",
    "\n",
    "# Padding NAN's\n",
    "print (df2.reindex_like(df1))\n",
    "\n",
    "# Now Fill the NAN's with preceding Values\n",
    "print (\"Data Frame with Forward Fill:\")\n",
    "print (df2.reindex_like(df1,method='ffill'))\n",
    "print(\"=============\")\n",
    "\n",
    "# Limits on Filling while Reindexing\n",
    "# Limit specifies the maximum count of consecutive matches.\n",
    "df1 = pd.DataFrame(np.random.randn(6,3),columns=['col1','col2','col3'])\n",
    "df2 = pd.DataFrame(np.random.randn(2,3),columns=['col1','col2','col3'])\n",
    "print(df1)\n",
    "print(\"=============\")\n",
    "print(df2)\n",
    "print(\"=============\")\n",
    "\n",
    "# Padding NAN's\n",
    "print (df2.reindex_like(df1))\n",
    "\n",
    "# Now Fill the NAN's with preceding Values\n",
    "print (\"Data Frame with Forward Fill limiting to 1:\")\n",
    "print (df2.reindex_like(df1,method='ffill',limit=1))\n",
    "\n",
    "\n",
    "# Renaming\n",
    "# relabel an axis based on some mapping (a dict or Series) or an arbitrary function.\n",
    "# The rename() method provides an inplace named parameter, which by default is False and copies the underlying data. Pass inplace=True to rename the data in place.\n",
    "df1 = pd.DataFrame(np.random.randn(6,3),columns=['col1','col2','col3'])\n",
    "print (df1)\n",
    "\n",
    "print (\"After renaming the rows and columns:\")\n",
    "print (df1.rename(columns={'col1' : 'c1', 'col2' : 'c2'},\n",
    "index = {0 : 'apple', 1 : 'banana', 2 : 'durian'}))"
   ]
  },
  {
   "cell_type": "code",
   "execution_count": null,
   "metadata": {},
   "outputs": [],
   "source": []
  }
 ],
 "metadata": {
  "kernelspec": {
   "display_name": "Python 3",
   "language": "python",
   "name": "python3"
  },
  "language_info": {
   "codemirror_mode": {
    "name": "ipython",
    "version": 3
   },
   "file_extension": ".py",
   "mimetype": "text/x-python",
   "name": "python",
   "nbconvert_exporter": "python",
   "pygments_lexer": "ipython3",
   "version": "3.7.6"
  }
 },
 "nbformat": 4,
 "nbformat_minor": 4
}
