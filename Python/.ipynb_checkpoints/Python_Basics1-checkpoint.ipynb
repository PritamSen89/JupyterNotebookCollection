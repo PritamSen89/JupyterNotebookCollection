{
 "cells": [
  {
   "cell_type": "code",
   "execution_count": 1,
   "metadata": {},
   "outputs": [
    {
     "name": "stdout",
     "output_type": "stream",
     "text": [
      "Hello, World!\n"
     ]
    }
   ],
   "source": [
    "print(\"Hello, World!\")"
   ]
  },
  {
   "cell_type": "code",
   "execution_count": 6,
   "metadata": {},
   "outputs": [
    {
     "name": "stdout",
     "output_type": "stream",
     "text": [
      "Five is greater than two!\n"
     ]
    }
   ],
   "source": [
    "if 5 > 2:\n",
    "    print(\"Five is greater than two!\")"
   ]
  },
  {
   "cell_type": "code",
   "execution_count": 7,
   "metadata": {},
   "outputs": [],
   "source": [
    "#This is a comment"
   ]
  },
  {
   "cell_type": "code",
   "execution_count": 13,
   "metadata": {},
   "outputs": [
    {
     "name": "stdout",
     "output_type": "stream",
     "text": [
      "5\n",
      "John\n",
      "Orange\n",
      "Banana\n",
      "Cherry\n",
      "BananaCherry\n"
     ]
    }
   ],
   "source": [
    "# Variables:\n",
    "x = 5\n",
    "y = \"John\"\n",
    "print(x)\n",
    "print(y)\n",
    "\n",
    "a, b, c = \"Orange\", \"Banana\", \"Cherry\"\n",
    "print(a)\n",
    "print(b)\n",
    "print(c)\n",
    "\n",
    "z =  b + c\n",
    "print(z)\n",
    "\n",
    "# print(x + y) -> error : unsupported operand type(s) for +: 'int' and 'str'"
   ]
  },
  {
   "cell_type": "code",
   "execution_count": 14,
   "metadata": {},
   "outputs": [
    {
     "name": "stdout",
     "output_type": "stream",
     "text": [
      "Python is fantastic\n"
     ]
    }
   ],
   "source": [
    "# global keyword\n",
    "x = \"awesome\"\n",
    "\n",
    "def myfunc():\n",
    "  global x\n",
    "  x = \"fantastic\"\n",
    "\n",
    "myfunc()\n",
    "\n",
    "print(\"Python is \" + x)"
   ]
  },
  {
   "cell_type": "code",
   "execution_count": 16,
   "metadata": {},
   "outputs": [],
   "source": [
    "# data types\n",
    "x = 5\n",
    "print(type(x))\n",
    "\n",
    "x = \"Hello World\" #str\n",
    "x = 20 #int\n",
    "x = 20.5 #float\n",
    "x = 1j #complex\n",
    "x = [\"apple\", \"banana\", \"cherry\"] #list\n",
    "x = (\"apple\", \"banana\", \"cherry\") #tuple\n",
    "x = range(6) #range\n",
    "x = {\"name\" : \"John\", \"age\" : 36} #dict\n",
    "x = {\"apple\", \"banana\", \"cherry\"} #set\n",
    "x = frozenset({\"apple\", \"banana\", \"cherry\"}) #frozenset\n",
    "x = True #bool\n",
    "x = b\"Hello\" #bytes\n",
    "x = bytearray(5) #bytearray\n",
    "x = memoryview(bytes(5)) #memoryview"
   ]
  },
  {
   "cell_type": "code",
   "execution_count": 21,
   "metadata": {},
   "outputs": [
    {
     "name": "stdout",
     "output_type": "stream",
     "text": [
      "1.0\n",
      "2\n",
      "(1+0j)\n",
      "<class 'float'>\n",
      "<class 'int'>\n",
      "<class 'complex'>\n",
      "4.2\n"
     ]
    }
   ],
   "source": [
    "# type conversion\n",
    "\n",
    "x = 1    # int\n",
    "y = 2.8  # float\n",
    "z = 1j   # complex\n",
    "\n",
    "#convert from int to float:\n",
    "a = float(x)\n",
    "\n",
    "#convert from float to int:\n",
    "b = int(y)\n",
    "\n",
    "#convert from int to complex:\n",
    "c = complex(x)\n",
    "\n",
    "print(a)\n",
    "print(b)\n",
    "print(c)\n",
    "\n",
    "print(type(a))\n",
    "print(type(b))\n",
    "print(type(c))\n",
    "\n",
    "w = float(\"4.2\") # w will be 4.2\n",
    "print(w)"
   ]
  },
  {
   "cell_type": "code",
   "execution_count": 20,
   "metadata": {},
   "outputs": [
    {
     "name": "stdout",
     "output_type": "stream",
     "text": [
      "9\n"
     ]
    }
   ],
   "source": [
    "# random number \n",
    "import random\n",
    "print(random.randrange(1, 10)) # random number between 1 and 9"
   ]
  },
  {
   "cell_type": "code",
   "execution_count": 37,
   "metadata": {},
   "outputs": [
    {
     "name": "stdout",
     "output_type": "stream",
     "text": [
      "Lorem ipsum dolor sit amet,\n",
      "consectetur adipiscing elit,\n",
      "sed do eiusmod tempor incididunt\n",
      "ut labore et dolore magna aliqua.\n",
      "e\n",
      "llo\n",
      "orl\n",
      "13\n",
      "Hello, World!\n",
      " hello, world! \n",
      " Jollo, World! \n",
      "[' Hello', ' World! ']\n",
      "True\n",
      "Hello World\n",
      "I want 3 pieces of item 567 for 49.95 dollars.\n",
      "I want to pay 49.95 dollars for 3 pieces of item 567.\n",
      "We are the so-called \"Vikings\" from the north.\n",
      "G i Joe!\n"
     ]
    }
   ],
   "source": [
    "# string\n",
    "a = \"\"\"Lorem ipsum dolor sit amet,\n",
    "consectetur adipiscing elit,\n",
    "sed do eiusmod tempor incididunt\n",
    "ut labore et dolore magna aliqua.\"\"\"\n",
    "print(a)\n",
    "\n",
    "x = \"Hello, World!\"\n",
    "print(x[1])\n",
    "\n",
    "# slicing\n",
    "print(x[2:5])\n",
    "print(x[-5:-2])\n",
    "\n",
    "# length\n",
    "print(len(x))\n",
    "\n",
    "# strip : to remove any whitespace from the beginning or the end:\n",
    "a = \" Hello, World! \"\n",
    "print(a.strip()) # returns \"Hello, World!\"\n",
    "\n",
    "# lower / upper\n",
    "print(a.lower())\n",
    "\n",
    "# replace \n",
    "print(a.replace(\"He\", \"Jo\"))\n",
    "\n",
    "#split\n",
    "print(a.split(\",\")) # returns ['Hello', ' World!']\n",
    "\n",
    "#to check certain phrase or character is present in a string, we can use the keywords in or not in.\n",
    "txt = \"The rain in Spain stays mainly in the plain\"\n",
    "x = \"ain\" in txt\n",
    "print(x)\n",
    "\n",
    "# concat\n",
    "a = \"Hello\"\n",
    "b = \"World\"\n",
    "c = a + \" \" + b\n",
    "print(c)\n",
    "\n",
    "# format\n",
    "quantity = 3\n",
    "itemno = 567\n",
    "price = 49.95\n",
    "myorder = \"I want {} pieces of item {} for {} dollars.\"\n",
    "print(myorder.format(quantity, itemno, price))\n",
    "\n",
    "myorder = \"I want to pay {2} dollars for {0} pieces of item {1}.\"\n",
    "print(myorder.format(quantity, itemno, price))\n",
    "\n",
    "# escape character: Backslash \\\n",
    "txt = \"We are the so-called \\\"Vikings\\\" from the north.\"\n",
    "print(txt)\n",
    "\n",
    "# translate\n",
    "txt = \"Good night Sam!\";\n",
    "\n",
    "x = \"mSa\";\n",
    "y = \"eJo\";\n",
    "z = \"odnght\";\n",
    "\n",
    "mytable = txt.maketrans(x, y, z); #third parameter in the mapping table describes characters that you want to remove from the string\n",
    "\n",
    "print(txt.translate(mytable));\n",
    "\n",
    "# isSpace, isTitle, isNumeric, startsWith, title, swapCase"
   ]
  },
  {
   "cell_type": "code",
   "execution_count": 42,
   "metadata": {},
   "outputs": [
    {
     "name": "stdout",
     "output_type": "stream",
     "text": [
      "125\n"
     ]
    }
   ],
   "source": [
    "# operators : same as C\n",
    "x = 5\n",
    "x **= 3 # exponent\n",
    "print(x)"
   ]
  },
  {
   "cell_type": "markdown",
   "metadata": {},
   "source": [
    "###### Collections\n",
    "There are four collection data types in the Python programming language:\n",
    "\n",
    "List is a collection which is ordered and changeable. Allows duplicate members.\n",
    "Tuple is a collection which is ordered and unchangeable. Allows duplicate members.\n",
    "Set is a collection which is unordered and unindexed. No duplicate members.\n",
    "Dictionary is a collection which is unordered, changeable and indexed. No duplicate members."
   ]
  },
  {
   "cell_type": "code",
   "execution_count": 45,
   "metadata": {},
   "outputs": [
    {
     "name": "stdout",
     "output_type": "stream",
     "text": [
      "['apple', 'banana', 'cherry', 'orange']\n",
      "apple\n",
      "banana\n",
      "cherry\n",
      "orange\n",
      "kiwi\n",
      "melon\n",
      "mango\n",
      "Yes, 'apple' is in the fruits list\n"
     ]
    }
   ],
   "source": [
    "# list\n",
    "thislist = [\"apple\", \"banana\", \"cherry\", \"orange\", \"kiwi\", \"melon\", \"mango\"]\n",
    "print(thislist[:4])\n",
    "\n",
    "for x in thislist:\n",
    "  print(x)\n",
    "\n",
    "if \"apple\" in thislist:\n",
    "  print(\"Yes, 'apple' is in the fruits list\")\n",
    "\n",
    "thislist.append(\"malta\")\n",
    "thislist.insert(1, \"berry\")\n",
    "thislist.remove(\"banana\")\n",
    "\n",
    "thislist.pop()\n",
    "del thislist[0]\n",
    "\n",
    "mylist = thislist.copy() # list(thislist)\n",
    "\n",
    "thislist.clear()\n",
    "\n",
    "list1 = [\"a\", \"b\" , \"c\"]\n",
    "list2 = [1, 2, 3]\n",
    "\n",
    "list3 = list1 + list2 # list1.extend(list2)\n",
    "print(list3)\n",
    "\n",
    "# reverse, sort"
   ]
  },
  {
   "cell_type": "code",
   "execution_count": 51,
   "metadata": {},
   "outputs": [
    {
     "name": "stdout",
     "output_type": "stream",
     "text": [
      "('apple', 'banana', 'cherry')\n",
      "cherry\n",
      "('apple', 'banana')\n",
      "2\n",
      "('apple', 'kiwi', 'cherry')\n",
      "<class 'tuple'>\n",
      "<class 'str'>\n",
      "('a', 'b', 'c', 1, 2, 3)\n"
     ]
    }
   ],
   "source": [
    "# tuple\n",
    "thistuple = (\"apple\", \"banana\", \"cherry\")\n",
    "print(thistuple)\n",
    "print(thistuple[-1])\n",
    "print(thistuple[-4:-1])\n",
    "\n",
    "x = thistuple.index(\"cherry\")\n",
    "print(x)\n",
    "\n",
    "# Tuples are unchangeable, or immutable. To change value, convert the tuple into a list, change the list, and convert the list back into a tuple.\n",
    "\n",
    "x = (\"apple\", \"banana\", \"cherry\")\n",
    "y = list(x)\n",
    "y[1] = \"kiwi\"\n",
    "x = tuple(y)\n",
    "\n",
    "print(x)\n",
    "\n",
    "# To create a tuple with only one item, you have to add a comma after the item, \n",
    "thistuple = (\"apple\",)\n",
    "print(type(thistuple))\n",
    "\n",
    "#NOT a tuple\n",
    "thistuple = (\"apple\")\n",
    "print(type(thistuple))\n",
    "\n",
    "del thistuple\n",
    "# print(thistuple) #this will raise an error because the tuple no longer exists\n",
    "\n",
    "tuple1 = (\"a\", \"b\" , \"c\")\n",
    "tuple2 = (1, 2, 3)\n",
    "\n",
    "tuple3 = tuple1 + tuple2\n",
    "print(tuple3)"
   ]
  },
  {
   "cell_type": "code",
   "execution_count": 53,
   "metadata": {},
   "outputs": [
    {
     "name": "stdout",
     "output_type": "stream",
     "text": [
      "{'banana', 'cherry', 'apple'}\n",
      "{'apple', 'mango', 'orange', 'cherry', 'grapes'}\n",
      "apple\n",
      "{'mango', 'orange', 'cherry', 'grapes'}\n"
     ]
    }
   ],
   "source": [
    "# set\n",
    "thisset = {\"apple\", \"banana\", \"cherry\"}\n",
    "print(thisset)\n",
    "\n",
    "thisset.add(\"orange\")\n",
    "\n",
    "# To add multiple items to a set, use the update() method:\n",
    "thisset.update([\"orange\", \"mango\", \"grapes\"])\n",
    "\n",
    "\n",
    "thisset.discard(\"banana\")\n",
    "\n",
    "print(thisset)\n",
    "\n",
    "\n",
    "x = thisset.pop() # Sets are unordered, so when using the pop() method, you will not know which item that gets removed.\n",
    "\n",
    "print(x)\n",
    "\n",
    "print(thisset)\n",
    "\n",
    "thisset.clear()\n",
    "\n",
    "#del thisset\n",
    "#print(thisset)\n",
    "\n",
    "# union() method returns a new set with all items from both sets:\n",
    "set1 = {\"a\", \"b\" , \"c\"}\n",
    "set2 = {1, 2, 3}\n",
    "\n",
    "set3 = set1.union(set2)\n",
    "print(set3)\n",
    "\n",
    "# update() method inserts the items in set2 into set1:\n",
    "set1.update(set2)\n",
    "print(set1)"
   ]
  },
  {
   "cell_type": "code",
   "execution_count": null,
   "metadata": {},
   "outputs": [],
   "source": [
    "# Dictionary\n",
    "\n",
    "thisdict = {\n",
    "  \"brand\": \"Ford\",\n",
    "  \"model\": \"Mustang\",\n",
    "  \"year\": 1964\n",
    "}\n",
    "print(thisdict)\n",
    "\n",
    "x = thisdict[\"model\"]\n",
    "thisdict[\"year\"] = 2018\n",
    "\n",
    "for x in thisdict:\n",
    "  print(x)\n",
    "\n",
    "for x in thisdict.values():\n",
    "  print(x)\n",
    "\n",
    "for x, y in thisdict.items():\n",
    "  print(x, y)\n",
    "\n",
    "thisdict[\"color\"] = \"red\"\n",
    "thisdict.pop(\"model\")\n",
    "\n",
    "\n",
    "mydict = thisdict.copy() # dict(thisdict)\n",
    "print(mydict)\n",
    "\n",
    "# dict constructor\n",
    "thisdict = dict(brand=\"Ford\", model=\"Mustang\", year=1964)\n",
    "# note that keywords are not string literals\n",
    "# note the use of equals rather than colon for the assignment\n",
    "print(thisdict)"
   ]
  },
  {
   "cell_type": "code",
   "execution_count": 54,
   "metadata": {},
   "outputs": [
    {
     "name": "stdout",
     "output_type": "stream",
     "text": [
      "a is greater than b\n",
      "1\n",
      "2\n",
      "3\n",
      "4\n",
      "5\n",
      "i is no longer less than 6\n",
      "0\n",
      "1\n",
      "2\n",
      "3\n",
      "4\n",
      "5\n",
      "2\n",
      "5\n",
      "8\n",
      "11\n",
      "14\n",
      "17\n",
      "20\n",
      "23\n",
      "26\n",
      "29\n"
     ]
    }
   ],
   "source": [
    "# if/else\n",
    "\n",
    "a = 200\n",
    "b = 33\n",
    "if b > a:\n",
    "  print(\"b is greater than a\")\n",
    "elif a == b:\n",
    "  print(\"a and b are equal\")\n",
    "else:\n",
    "  print(\"a is greater than b\")\n",
    "\n",
    "# while\n",
    "i = 1\n",
    "while i < 6:\n",
    "  print(i)\n",
    "  i += 1\n",
    "else:\n",
    "  print(\"i is no longer less than 6\")\n",
    "\n",
    "# for\n",
    "for x in range(6):\n",
    "  print(x)\n",
    "\n",
    "for x in range(2, 30, 3):\n",
    "  print(x)"
   ]
  }
 ],
 "metadata": {
  "kernelspec": {
   "display_name": "Python 3",
   "language": "python",
   "name": "python3"
  },
  "language_info": {
   "codemirror_mode": {
    "name": "ipython",
    "version": 3
   },
   "file_extension": ".py",
   "mimetype": "text/x-python",
   "name": "python",
   "nbconvert_exporter": "python",
   "pygments_lexer": "ipython3",
   "version": "3.7.6"
  }
 },
 "nbformat": 4,
 "nbformat_minor": 4
}
