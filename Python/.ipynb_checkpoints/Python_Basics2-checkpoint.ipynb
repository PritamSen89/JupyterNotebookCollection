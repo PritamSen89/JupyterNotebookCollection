{
 "cells": [
  {
   "cell_type": "code",
   "execution_count": 6,
   "metadata": {},
   "outputs": [
    {
     "name": "stdout",
     "output_type": "stream",
     "text": [
      "Pritam Sen\n",
      "The youngest child is Linus\n",
      "His last name is Refsnes\n",
      "I am from Sweden\n",
      "I am from Norway\n",
      "I am from Brazil\n"
     ]
    }
   ],
   "source": [
    "# Functions\n",
    "def myFunction1(fname, lname):\n",
    "  print(fname + \" \" + lname)\n",
    "\n",
    "myFunction1(\"Pritam\", \"Sen\")\n",
    "\n",
    "def myFunction2(*kids):\n",
    "  print(\"The youngest child is \" + kids[2])\n",
    "\n",
    "myFunction2(\"Emil\", \"Tobias\", \"Linus\")\n",
    "\n",
    "#Arbitrary Keyword Arguments, **kwargs\n",
    "#This way the function will receive a dictionary of arguments, and can access the items accordingly:\n",
    "\n",
    "def myFunction3(**kid):\n",
    "  print(\"His last name is \" + kid[\"lname\"])\n",
    "\n",
    "myFunction3(fname = \"Tobias\", lname = \"Refsnes\")\n",
    "\n",
    "# default value\n",
    "def myFunction4(country = \"Norway\"):\n",
    "  print(\"I am from \" + country)\n",
    "\n",
    "myFunction4(\"Sweden\")\n",
    "myFunction4()\n",
    "myFunction4(\"Brazil\")"
   ]
  },
  {
   "cell_type": "code",
   "execution_count": 8,
   "metadata": {},
   "outputs": [
    {
     "name": "stdout",
     "output_type": "stream",
     "text": [
      "15\n",
      "30\n",
      "22\n",
      "33\n"
     ]
    }
   ],
   "source": [
    "# Lambda\n",
    "# A lambda function is a small anonymous function.can take any number of arguments, but can only have one expression.\n",
    "# lambda arguments : expression\n",
    "\n",
    "x = lambda a : a + 10\n",
    "print(x(5))\n",
    "\n",
    "x = lambda a, b : a * b\n",
    "print(x(5, 6))\n",
    "\n",
    "def myfunc(n):\n",
    "  return lambda a : a * n\n",
    "\n",
    "mydoubler = myfunc(2)\n",
    "mytripler = myfunc(3)\n",
    "\n",
    "print(mydoubler(11)) \n",
    "print(mytripler(11))"
   ]
  },
  {
   "cell_type": "code",
   "execution_count": 12,
   "metadata": {},
   "outputs": [
    {
     "name": "stdout",
     "output_type": "stream",
     "text": [
      "Hello my name is Pritam\n",
      "Welcome Mike Olsen to the class of 2019\n"
     ]
    }
   ],
   "source": [
    "# Class\n",
    "class Person:\n",
    "  def __init__(self, fname, lname):\n",
    "    self.firstname = fname\n",
    "    self.lastname = lname\n",
    "\n",
    "  def myfunc(self):\n",
    "    print(\"Hello my name is \" + self.firstname)\n",
    "\n",
    "p1 = Person(\"Pritam\", \"Sen\")\n",
    "p1.myfunc()\n",
    "\n",
    "# Inheritance\n",
    "class Student(Person):\n",
    "  def __init__(self, fname, lname, year):\n",
    "    super().__init__(fname, lname)\n",
    "    self.graduationyear = year\n",
    "\n",
    "  def welcome(self):\n",
    "    print(\"Welcome\", self.firstname, self.lastname, \"to the class of\", self.graduationyear)\n",
    "    \n",
    "x = Student(\"Mike\", \"Olsen\", 2019)\n",
    "x.welcome()"
   ]
  },
  {
   "cell_type": "code",
   "execution_count": 15,
   "metadata": {},
   "outputs": [
    {
     "name": "stdout",
     "output_type": "stream",
     "text": [
      "apple\n",
      "banana\n",
      "cherry\n",
      "b\n",
      "a\n"
     ]
    }
   ],
   "source": [
    "# iterator\n",
    "\n",
    "mytuple = (\"apple\", \"banana\", \"cherry\")\n",
    "myit = iter(mytuple)\n",
    "\n",
    "print(next(myit))\n",
    "print(next(myit))\n",
    "print(next(myit))\n",
    "\n",
    "mystr = \"banana\"\n",
    "myit = iter(mystr)\n",
    "\n",
    "print(next(myit))\n",
    "print(next(myit))"
   ]
  },
  {
   "cell_type": "code",
   "execution_count": 17,
   "metadata": {},
   "outputs": [
    {
     "name": "stdout",
     "output_type": "stream",
     "text": [
      "Darwin\n",
      "['DEV_NULL', '_UNIXCONFDIR', '_WIN32_CLIENT_RELEASES', '_WIN32_SERVER_RELEASES', '__builtins__', '__cached__', '__copyright__', '__doc__', '__file__', '__loader__', '__name__', '__package__', '__spec__', '__version__', '_comparable_version', '_component_re', '_default_architecture', '_dist_try_harder', '_follow_symlinks', '_ironpython26_sys_version_parser', '_ironpython_sys_version_parser', '_java_getprop', '_libc_search', '_linux_distribution', '_lsb_release_version', '_mac_ver_xml', '_node', '_norm_version', '_parse_release_file', '_platform', '_platform_cache', '_pypy_sys_version_parser', '_release_filename', '_release_version', '_supported_dists', '_sys_version', '_sys_version_cache', '_sys_version_parser', '_syscmd_file', '_syscmd_uname', '_syscmd_ver', '_uname_cache', '_ver_output', '_ver_stages', 'architecture', 'collections', 'dist', 'java_ver', 'libc_ver', 'linux_distribution', 'mac_ver', 'machine', 'node', 'os', 'platform', 'popen', 'processor', 'python_branch', 'python_build', 'python_compiler', 'python_implementation', 'python_revision', 'python_version', 'python_version_tuple', 're', 'release', 'subprocess', 'sys', 'system', 'system_alias', 'uname', 'uname_result', 'version', 'warnings', 'win32_ver']\n"
     ]
    }
   ],
   "source": [
    "# Module\n",
    "# A module to be the same as a code library. A file containing a set of functions you want to include in your application\n",
    "# Save this code in a file named mymodule.py\n",
    "# def greeting(name):\n",
    "#   print(\"Hello, \" + name)\n",
    "\n",
    "#import mymodule\n",
    "#mymodule.greeting(\"Jonathan\")\n",
    "\n",
    "# you can create an alias when you import a module, by using the as keyword:\n",
    "# import mymodule as mx\n",
    "\n",
    "# built-in module\n",
    "import platform\n",
    "\n",
    "x = platform.system()\n",
    "print(x)\n",
    "x = dir(platform)\n",
    "print(x) \n",
    "\n",
    "# Import from module\n",
    "# from mymodule import person1"
   ]
  },
  {
   "cell_type": "code",
   "execution_count": 22,
   "metadata": {},
   "outputs": [
    {
     "name": "stdout",
     "output_type": "stream",
     "text": [
      "2020-08-08 16:23:57.355469\n",
      "2020\n",
      "Saturday\n",
      "August\n",
      "2020-05-17 00:00:00\n"
     ]
    }
   ],
   "source": [
    "# Dates\n",
    "import datetime\n",
    "\n",
    "x = datetime.datetime.now()\n",
    "print(x)\n",
    "print(x.year)\n",
    "print(x.strftime(\"%A\")) # need to check format codes\n",
    "print(x.strftime(\"%B\"))\n",
    "\n",
    "x = datetime.datetime(2020, 5, 17)\n",
    "\n",
    "print(x)"
   ]
  },
  {
   "cell_type": "code",
   "execution_count": 54,
   "metadata": {},
   "outputs": [
    {
     "name": "stdout",
     "output_type": "stream",
     "text": [
      "1596914455.89023\n",
      "2020-08-09 01:20:55.890504\n",
      "100 days, 0:00:00\n",
      "2020-08-09\n"
     ]
    }
   ],
   "source": [
    "import time as tm\n",
    "import datetime as dt\n",
    "\n",
    "print(tm.time())\n",
    "\n",
    "dtnow = dt.datetime.fromtimestamp(tm.time())\n",
    "print(dtnow)\n",
    "\n",
    "delta = dt.timedelta(days = 100) # create a timedelta of 100 days\n",
    "print(delta)\n",
    "\n",
    "today = dt.date.today()\n",
    "print(today)"
   ]
  },
  {
   "cell_type": "code",
   "execution_count": 27,
   "metadata": {},
   "outputs": [
    {
     "name": "stdout",
     "output_type": "stream",
     "text": [
      "5\n",
      "25\n",
      "7.25\n",
      "64\n",
      "8.0\n",
      "2\n",
      "1\n",
      "3.141592653589793\n"
     ]
    }
   ],
   "source": [
    "# math\n",
    "x = min(5, 10, 25)\n",
    "y = max(5, 10, 25)\n",
    "\n",
    "print(x)\n",
    "print(y)\n",
    "\n",
    "x = abs(-7.25)\n",
    "print(x)\n",
    "\n",
    "x = pow(4, 3)\n",
    "print(x)\n",
    "\n",
    "import math\n",
    "\n",
    "x = math.sqrt(64)\n",
    "print(x)\n",
    "x = math.ceil(1.4)\n",
    "y = math.floor(1.4)\n",
    "\n",
    "print(x) # returns 2\n",
    "print(y) # returns 1\n",
    "\n",
    "x = math.pi\n",
    "print(x)"
   ]
  },
  {
   "cell_type": "code",
   "execution_count": 36,
   "metadata": {},
   "outputs": [
    {
     "name": "stdout",
     "output_type": "stream",
     "text": [
      "30\n",
      "{\"name\": \"John\", \"age\": 30, \"city\": \"New York\"}\n",
      "{\"name\": \"John\", \"age\": 30}\n",
      "[\"apple\", \"bananas\"]\n",
      "[\"apple\", \"bananas\"]\n",
      "{\"name\": \"John\", \"age\": 30, \"married\": true, \"divorced\": false, \"children\": [\"Ann\", \"Billy\"], \"pets\": null, \"cars\": [{\"model\": \"BMW 230\", \"mpg\": 27.5}, {\"model\": \"Ford Edge\", \"mpg\": 24.1}]}\n"
     ]
    },
    {
     "data": {
      "text/plain": [
       "'{\"name\" * \"John\". \"age\" * 30. \"married\" * true. \"divorced\" * false. \"children\" * [\"Ann\". \"Billy\"]. \"pets\" * null. \"cars\" * [{\"model\" * \"BMW 230\". \"mpg\" * 27.5}. {\"model\" * \"Ford Edge\". \"mpg\" * 24.1}]}'"
      ]
     },
     "execution_count": 36,
     "metadata": {},
     "output_type": "execute_result"
    }
   ],
   "source": [
    "# JSON\n",
    "import json\n",
    "\n",
    "# some JSON:\n",
    "x =  '{ \"name\":\"John\", \"age\":30, \"city\":\"New York\"}'\n",
    "\n",
    "# parse x:\n",
    "y = json.loads(x)\n",
    "\n",
    "# the result is a Python dictionary:\n",
    "print(y[\"age\"])\n",
    "\n",
    "# a Python object (dict):\n",
    "x = {\n",
    "  \"name\": \"John\",\n",
    "  \"age\": 30,\n",
    "  \"city\": \"New York\"\n",
    "}\n",
    "\n",
    "# convert into JSON:\n",
    "y = json.dumps(x)\n",
    "\n",
    "# the result is a JSON string:\n",
    "print(y)\n",
    "\n",
    "print(json.dumps({\"name\": \"John\", \"age\": 30}))\n",
    "print(json.dumps([\"apple\", \"bananas\"]))\n",
    "print(json.dumps((\"apple\", \"bananas\")))\n",
    "\n",
    "x = {\n",
    "  \"name\": \"John\",\n",
    "  \"age\": 30,\n",
    "  \"married\": True,\n",
    "  \"divorced\": False,\n",
    "  \"children\": (\"Ann\",\"Billy\"),\n",
    "  \"pets\": None, # null in JSON string\n",
    "  \"cars\": [\n",
    "    {\"model\": \"BMW 230\", \"mpg\": 27.5},\n",
    "    {\"model\": \"Ford Edge\", \"mpg\": 24.1}\n",
    "  ]\n",
    "}\n",
    "\n",
    "print(json.dumps(x))"
   ]
  },
  {
   "cell_type": "code",
   "execution_count": 40,
   "metadata": {},
   "outputs": [
    {
     "name": "stdout",
     "output_type": "stream",
     "text": [
      "['ai', 'ai']\n",
      "The9rain9in9Spain\n",
      "The9rain9in Spain\n"
     ]
    }
   ],
   "source": [
    "# RegEx\n",
    "import re\n",
    "\n",
    "txt = \"The rain in Spain\"\n",
    "x = re.findall(\"ai\", txt)\n",
    "print(x)\n",
    "\n",
    "x = re.sub(\"\\s\", \"9\", txt)\n",
    "print(x)\n",
    "\n",
    "x = re.sub(\"\\s\", \"9\", txt, 2)\n",
    "print(x)\n",
    "\n",
    "##TODO"
   ]
  },
  {
   "cell_type": "code",
   "execution_count": 43,
   "metadata": {},
   "outputs": [
    {
     "name": "stdout",
     "output_type": "stream",
     "text": [
      "Package                            Version\r\n",
      "---------------------------------- -------------------\r\n",
      "absl-py                            0.9.0\r\n",
      "alabaster                          0.7.12\r\n",
      "anaconda-client                    1.7.2\r\n",
      "anaconda-navigator                 1.9.12\r\n",
      "anaconda-project                   0.8.3\r\n",
      "applaunchservices                  0.2.1\r\n",
      "appnope                            0.1.0\r\n",
      "appscript                          1.0.1\r\n",
      "argh                               0.26.2\r\n",
      "asn1crypto                         1.3.0\r\n",
      "astor                              0.8.1\r\n",
      "astroid                            2.3.3\r\n",
      "astropy                            4.0\r\n",
      "astunparse                         1.6.3\r\n",
      "atomicwrites                       1.3.0\r\n",
      "attrs                              19.3.0\r\n",
      "autopep8                           1.4.4\r\n",
      "Babel                              2.8.0\r\n",
      "backcall                           0.1.0\r\n",
      "backports.functools-lru-cache      1.6.1\r\n",
      "backports.shutil-get-terminal-size 1.0.0\r\n",
      "backports.tempfile                 1.0\r\n",
      "backports.weakref                  1.0.post1\r\n",
      "beautifulsoup4                     4.8.2\r\n",
      "bitarray                           1.2.1\r\n",
      "bkcharts                           0.2\r\n",
      "bleach                             3.1.0\r\n",
      "bokeh                              1.4.0\r\n",
      "boto                               2.49.0\r\n",
      "Bottleneck                         1.3.2\r\n",
      "cachetools                         4.1.0\r\n",
      "certifi                            2019.11.28\r\n",
      "cffi                               1.14.0\r\n",
      "chardet                            3.0.4\r\n",
      "Click                              7.0\r\n",
      "cloudpickle                        1.3.0\r\n",
      "clyent                             1.2.2\r\n",
      "colorama                           0.4.3\r\n",
      "conda                              4.8.3\r\n",
      "conda-build                        3.18.11\r\n",
      "conda-package-handling             1.7.0\r\n",
      "conda-verify                       3.4.2\r\n",
      "contextlib2                        0.6.0.post1\r\n",
      "cryptography                       2.8\r\n",
      "cycler                             0.10.0\r\n",
      "Cython                             0.29.15\r\n",
      "cytoolz                            0.10.1\r\n",
      "dask                               2.11.0\r\n",
      "decorator                          4.4.1\r\n",
      "defusedxml                         0.6.0\r\n",
      "diff-match-patch                   20181111\r\n",
      "dill                               0.3.2\r\n",
      "distributed                        2.11.0\r\n",
      "docutils                           0.16\r\n",
      "entrypoints                        0.3\r\n",
      "et-xmlfile                         1.0.1\r\n",
      "fastcache                          1.1.0\r\n",
      "filelock                           3.0.12\r\n",
      "flake8                             3.7.9\r\n",
      "Flask                              1.1.1\r\n",
      "fsspec                             0.6.2\r\n",
      "future                             0.18.2\r\n",
      "gast                               0.3.3\r\n",
      "gevent                             1.4.0\r\n",
      "glob2                              0.7\r\n",
      "gmpy2                              2.0.8\r\n",
      "google-auth                        1.18.0\r\n",
      "google-auth-oauthlib               0.4.1\r\n",
      "google-pasta                       0.2.0\r\n",
      "googleapis-common-protos           1.52.0\r\n",
      "greenlet                           0.4.15\r\n",
      "grpcio                             1.30.0\r\n",
      "h5py                               2.10.0\r\n",
      "HeapDict                           1.0.1\r\n",
      "html5lib                           1.0.1\r\n",
      "hypothesis                         5.5.4\r\n",
      "idna                               2.8\r\n",
      "imageio                            2.6.1\r\n",
      "imagesize                          1.2.0\r\n",
      "importlib-metadata                 1.5.0\r\n",
      "intervaltree                       3.0.2\r\n",
      "ipykernel                          5.1.4\r\n",
      "ipython                            7.12.0\r\n",
      "ipython-genutils                   0.2.0\r\n",
      "ipywidgets                         7.5.1\r\n",
      "isort                              4.3.21\r\n",
      "itsdangerous                       1.1.0\r\n",
      "jdcal                              1.4.1\r\n",
      "jedi                               0.14.1\r\n",
      "Jinja2                             2.11.1\r\n",
      "joblib                             0.14.1\r\n",
      "json5                              0.9.1\r\n",
      "jsonschema                         3.2.0\r\n",
      "jupyter                            1.0.0\r\n",
      "jupyter-client                     5.3.4\r\n",
      "jupyter-console                    6.1.0\r\n",
      "jupyter-core                       4.6.1\r\n",
      "jupyterlab                         1.2.6\r\n",
      "jupyterlab-server                  1.0.6\r\n",
      "Keras                              2.3.1\r\n",
      "Keras-Applications                 1.0.8\r\n",
      "Keras-Preprocessing                1.1.2\r\n",
      "keyring                            21.1.0\r\n",
      "kiwisolver                         1.1.0\r\n",
      "lazy-object-proxy                  1.4.3\r\n",
      "libarchive-c                       2.8\r\n",
      "lief                               0.9.0\r\n",
      "llvmlite                           0.31.0\r\n",
      "locket                             0.2.0\r\n",
      "lxml                               4.5.0\r\n",
      "Markdown                           3.2.2\r\n",
      "MarkupSafe                         1.1.1\r\n",
      "matplotlib                         3.1.3\r\n",
      "mccabe                             0.6.1\r\n",
      "mistune                            0.8.4\r\n",
      "mkl-fft                            1.0.15\r\n",
      "mkl-random                         1.1.0\r\n",
      "mkl-service                        2.3.0\r\n",
      "mock                               4.0.1\r\n",
      "more-itertools                     8.2.0\r\n",
      "mpmath                             1.1.0\r\n",
      "msgpack                            0.6.1\r\n",
      "multipledispatch                   0.6.0\r\n",
      "navigator-updater                  0.2.1\r\n",
      "nbconvert                          5.6.1\r\n",
      "nbformat                           5.0.4\r\n",
      "networkx                           2.4\r\n",
      "nltk                               3.4.5\r\n",
      "nose                               1.3.7\r\n",
      "notebook                           6.0.3\r\n",
      "numba                              0.48.0\r\n",
      "numexpr                            2.7.1\r\n",
      "numpy                              1.18.1\r\n",
      "numpydoc                           0.9.2\r\n",
      "oauthlib                           3.1.0\r\n",
      "olefile                            0.46\r\n",
      "openpyxl                           3.0.3\r\n",
      "opt-einsum                         3.2.1\r\n",
      "packaging                          20.1\r\n",
      "pandas                             1.0.1\r\n",
      "pandocfilters                      1.4.2\r\n",
      "parso                              0.5.2\r\n",
      "partd                              1.1.0\r\n",
      "path                               13.1.0\r\n",
      "pathlib2                           2.3.5\r\n",
      "pathtools                          0.1.2\r\n",
      "patsy                              0.5.1\r\n",
      "pep8                               1.7.1\r\n",
      "pexpect                            4.8.0\r\n",
      "pickleshare                        0.7.5\r\n",
      "Pillow                             7.0.0\r\n",
      "pip                                20.2\r\n",
      "pkginfo                            1.5.0.1\r\n",
      "pluggy                             0.13.1\r\n",
      "ply                                3.11\r\n",
      "prometheus-client                  0.7.1\r\n",
      "promise                            2.3\r\n",
      "prompt-toolkit                     3.0.3\r\n",
      "protobuf                           3.12.2\r\n",
      "psutil                             5.6.7\r\n",
      "ptyprocess                         0.6.0\r\n",
      "py                                 1.8.1\r\n",
      "pyasn1                             0.4.8\r\n",
      "pyasn1-modules                     0.2.8\r\n",
      "pycodestyle                        2.5.0\r\n",
      "pycosat                            0.6.3\r\n",
      "pycparser                          2.19\r\n",
      "pycrypto                           2.6.1\r\n",
      "pycurl                             7.43.0.5\r\n",
      "pydocstyle                         4.0.1\r\n",
      "pyflakes                           2.1.1\r\n",
      "Pygments                           2.5.2\r\n",
      "pylint                             2.4.4\r\n",
      "pyodbc                             4.0.0-unsupported\r\n",
      "pyOpenSSL                          19.1.0\r\n",
      "pyparsing                          2.4.6\r\n",
      "pyrsistent                         0.15.7\r\n",
      "PySocks                            1.7.1\r\n",
      "pytest                             5.3.5\r\n",
      "pytest-arraydiff                   0.3\r\n",
      "pytest-astropy                     0.8.0\r\n",
      "pytest-astropy-header              0.1.2\r\n",
      "pytest-doctestplus                 0.5.0\r\n",
      "pytest-openfiles                   0.4.0\r\n",
      "pytest-remotedata                  0.3.2\r\n",
      "python-dateutil                    2.8.1\r\n",
      "python-jsonrpc-server              0.3.4\r\n",
      "python-language-server             0.31.7\r\n",
      "pytz                               2019.3\r\n",
      "PyWavelets                         1.1.1\r\n",
      "PyYAML                             5.3\r\n",
      "pyzmq                              18.1.1\r\n",
      "QDarkStyle                         2.8\r\n",
      "QtAwesome                          0.6.1\r\n",
      "qtconsole                          4.6.0\r\n",
      "QtPy                               1.9.0\r\n",
      "requests                           2.22.0\r\n",
      "requests-oauthlib                  1.3.0\r\n",
      "rope                               0.16.0\r\n",
      "rsa                                4.6\r\n",
      "Rtree                              0.9.3\r\n",
      "ruamel-yaml                        0.15.87\r\n",
      "scikit-image                       0.16.2\r\n",
      "scikit-learn                       0.22.1\r\n",
      "scipy                              1.4.1\r\n",
      "seaborn                            0.10.0\r\n",
      "Send2Trash                         1.5.0\r\n",
      "setuptools                         46.0.0.post20200309\r\n",
      "simplegeneric                      0.8.1\r\n",
      "singledispatch                     3.4.0.3\r\n",
      "six                                1.14.0\r\n",
      "snowballstemmer                    2.0.0\r\n",
      "sortedcollections                  1.1.2\r\n",
      "sortedcontainers                   2.1.0\r\n",
      "soupsieve                          1.9.5\r\n",
      "Sphinx                             2.4.0\r\n",
      "sphinxcontrib-applehelp            1.0.1\r\n",
      "sphinxcontrib-devhelp              1.0.1\r\n",
      "sphinxcontrib-htmlhelp             1.0.2\r\n",
      "sphinxcontrib-jsmath               1.0.1\r\n",
      "sphinxcontrib-qthelp               1.0.2\r\n",
      "sphinxcontrib-serializinghtml      1.1.3\r\n",
      "sphinxcontrib-websupport           1.2.0\r\n",
      "spyder                             4.0.1\r\n",
      "spyder-kernels                     1.8.1\r\n",
      "SQLAlchemy                         1.3.13\r\n",
      "statsmodels                        0.11.0\r\n",
      "sympy                              1.5.1\r\n",
      "tables                             3.6.1\r\n",
      "tblib                              1.6.0\r\n",
      "tensorboard                        2.3.0\r\n",
      "tensorboard-plugin-wit             1.6.0.post3\r\n",
      "tensorflow                         2.3.0\r\n",
      "tensorflow-datasets                3.1.0\r\n",
      "tensorflow-estimator               2.3.0\r\n",
      "tensorflow-metadata                0.22.2\r\n",
      "termcolor                          1.1.0\r\n",
      "terminado                          0.8.3\r\n",
      "testpath                           0.4.4\r\n",
      "toolz                              0.10.0\r\n",
      "tornado                            6.0.3\r\n",
      "tqdm                               4.42.1\r\n",
      "traitlets                          4.3.3\r\n",
      "ujson                              1.35\r\n",
      "unicodecsv                         0.14.1\r\n",
      "urllib3                            1.25.8\r\n",
      "watchdog                           0.10.2\r\n",
      "wcwidth                            0.1.8\r\n",
      "webencodings                       0.5.1\r\n",
      "Werkzeug                           1.0.0\r\n",
      "wheel                              0.34.2\r\n",
      "widgetsnbextension                 3.5.1\r\n",
      "wrapt                              1.11.2\r\n",
      "wurlitzer                          2.0.0\r\n",
      "xlrd                               1.2.0\r\n",
      "XlsxWriter                         1.2.7\r\n",
      "xlwings                            0.17.1\r\n",
      "xlwt                               1.3.0\r\n",
      "xmltodict                          0.12.0\r\n",
      "yapf                               0.28.0\r\n",
      "zict                               1.0.0\r\n",
      "zipp                               2.2.0\r\n"
     ]
    }
   ],
   "source": [
    "# PIP\n",
    "# a package manager for Python packages\n",
    "!pip list\n",
    "#!pip install packageName\n",
    "\n",
    "# ! -> for shell commands"
   ]
  },
  {
   "cell_type": "code",
   "execution_count": 47,
   "metadata": {},
   "outputs": [
    {
     "name": "stdout",
     "output_type": "stream",
     "text": [
      "Something went wrong\n",
      "The 'try except' is finished\n"
     ]
    },
    {
     "ename": "Exception",
     "evalue": "Sorry, no numbers below zero",
     "output_type": "error",
     "traceback": [
      "\u001b[0;31m---------------------------------------------------------------------------\u001b[0m",
      "\u001b[0;31mException\u001b[0m                                 Traceback (most recent call last)",
      "\u001b[0;32m<ipython-input-47-cee5cc531788>\u001b[0m in \u001b[0;36m<module>\u001b[0;34m\u001b[0m\n\u001b[1;32m     13\u001b[0m \u001b[0;34m\u001b[0m\u001b[0m\n\u001b[1;32m     14\u001b[0m \u001b[0;32mif\u001b[0m \u001b[0mx\u001b[0m \u001b[0;34m<\u001b[0m \u001b[0;36m0\u001b[0m\u001b[0;34m:\u001b[0m\u001b[0;34m\u001b[0m\u001b[0;34m\u001b[0m\u001b[0m\n\u001b[0;32m---> 15\u001b[0;31m   \u001b[0;32mraise\u001b[0m \u001b[0mException\u001b[0m\u001b[0;34m(\u001b[0m\u001b[0;34m\"Sorry, no numbers below zero\"\u001b[0m\u001b[0;34m)\u001b[0m\u001b[0;34m\u001b[0m\u001b[0;34m\u001b[0m\u001b[0m\n\u001b[0m\u001b[1;32m     16\u001b[0m \u001b[0;34m\u001b[0m\u001b[0m\n\u001b[1;32m     17\u001b[0m \u001b[0;31m# You can define what kind of error to raise, and the text to print to the user.\u001b[0m\u001b[0;34m\u001b[0m\u001b[0;34m\u001b[0m\u001b[0;34m\u001b[0m\u001b[0m\n",
      "\u001b[0;31mException\u001b[0m: Sorry, no numbers below zero"
     ]
    }
   ],
   "source": [
    "# Try Except\n",
    "#The finally block gets executed no matter if the try block raises any errors or not:\n",
    "\n",
    "try:\n",
    "  print(var)\n",
    "except:\n",
    "  print(\"Something went wrong\")\n",
    "finally:\n",
    "  print(\"The 'try except' is finished\")\n",
    "\n",
    "# throw exception\n",
    "x = -1\n",
    "\n",
    "if x < 0:\n",
    "  raise Exception(\"Sorry, no numbers below zero\")\n",
    "\n",
    "# You can define what kind of error to raise, and the text to print to the user.\n",
    "x = \"hello\"\n",
    "\n",
    "if not type(x) is int:\n",
    "  raise TypeError(\"Only integers are allowed\")"
   ]
  },
  {
   "cell_type": "code",
   "execution_count": 48,
   "metadata": {},
   "outputs": [
    {
     "name": "stdout",
     "output_type": "stream",
     "text": [
      "Enter username:PRITAM\n",
      "Username is: PRITAM\n"
     ]
    }
   ],
   "source": [
    "# User Input\n",
    "username = input(\"Enter username:\")\n",
    "print(\"Username is: \" + username)"
   ]
  },
  {
   "cell_type": "code",
   "execution_count": 50,
   "metadata": {},
   "outputs": [
    {
     "name": "stdout",
     "output_type": "stream",
     "text": [
      "The content!\n"
     ]
    }
   ],
   "source": [
    "# File : open, write, read, delete\n",
    "\n",
    "f = open(\"demofile.txt\", \"w\")\n",
    "f.write(\"The content!\")\n",
    "f.close()\n",
    "\n",
    "#open and read the file after the appending:\n",
    "f = open(\"demofile.txt\", \"r\")\n",
    "print(f.read())"
   ]
  },
  {
   "cell_type": "code",
   "execution_count": null,
   "metadata": {},
   "outputs": [],
   "source": []
  }
 ],
 "metadata": {
  "kernelspec": {
   "display_name": "Python 3",
   "language": "python",
   "name": "python3"
  },
  "language_info": {
   "codemirror_mode": {
    "name": "ipython",
    "version": 3
   },
   "file_extension": ".py",
   "mimetype": "text/x-python",
   "name": "python",
   "nbconvert_exporter": "python",
   "pygments_lexer": "ipython3",
   "version": "3.7.6"
  }
 },
 "nbformat": 4,
 "nbformat_minor": 4
}
